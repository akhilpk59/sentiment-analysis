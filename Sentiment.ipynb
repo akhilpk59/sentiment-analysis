{
 "cells": [
  {
   "cell_type": "code",
   "execution_count": null,
   "id": "2eb9fc3f-aa08-4abf-8aed-d32dc6d4a11b",
   "metadata": {},
   "outputs": [],
   "source": [
    "import pandas as pd\n",
    "import numpy as np\n",
    "import nltk\n",
    "import re\n",
    "from nltk.corpus import stopwords\n",
    "# from sklearn.model_selection import train_test_split\n",
    "from sklearn.metrics import accuracy_score, classification_report\n",
    "from sklearn.feature_extraction.text import TfidfVectorizer\n",
    "from sklearn.svm import SVC\n",
    "from sklearn.decomposition import PCA\n",
    "# from sklearn.linear_model import LogisticRegression\n",
    "# from sklearn.ensemble import RandomForestClassifier\n",
    "\n",
    "\n",
    "imdb = pd.read_csv('./IMDB Dataset.csv')\n",
    "imdb.head()\n",
    "# nltk.download('stopwords')\n",
    "stop_words = set(stopwords.words('english'))\n",
    "\n",
    "def pre_process(text):\n",
    "    text = text.lower()\n",
    "    text = re.sub(r'<.*?>','',text)\n",
    "    text = re.sub(r'[^a-z\\s]','',text)\n",
    "    words = text.split()\n",
    "    words = [word for word in words if word not in stop_words]\n",
    "    return ' '.join(words)\n",
    "\n",
    "\n",
    "imdb['clean_review'] = imdb['review'].apply(pre_process)\n",
    "\n",
    "vectorize = TfidfVectorizer(max_features=5000)\n",
    "X = vectorize.fit_transform(imdb['clean_review'])\n",
    "\n",
    "imdb['sentiment_numeral']=imdb['sentiment'].map({'positive':1,'negative':0})\n",
    "y = imdb['sentiment_numeral']\n",
    "\n",
    "# train_X, val_X, train_y, val_y = train_test_split(X,y,test_size=0.2,random_state=2)\n",
    "model = SVC(kernel='linear', C=10,random_state=2)\n",
    "# model.fit(train_X,train_y)\n",
    "X_train_pca = pca.fit_transform(X)\n",
    "\n",
    "model.fit(X_train_pca,y)\n",
    "# predictions = model.predict(val_X)\n",
    "# print(f'Model accuracy : {accuracy_score(predictions,val_y):.2f}')"
   ]
  },
  {
   "cell_type": "code",
   "execution_count": 138,
   "id": "8f97d1a9-f5f4-42fb-92a9-68394c4e59b0",
   "metadata": {},
   "outputs": [
    {
     "name": "stdout",
     "output_type": "stream",
     "text": [
      "<class 'pandas.core.frame.DataFrame'>\n",
      "RangeIndex: 74682 entries, 0 to 74681\n",
      "Data columns (total 4 columns):\n",
      " #   Column     Non-Null Count  Dtype \n",
      "---  ------     --------------  ----- \n",
      " 0   tweet_id   74682 non-null  int64 \n",
      " 1   Game       74682 non-null  object\n",
      " 2   sentiment  74682 non-null  object\n",
      " 3   tweet      73996 non-null  object\n",
      "dtypes: int64(1), object(3)\n",
      "memory usage: 2.3+ MB\n"
     ]
    }
   ],
   "source": [
    "#Predict new data\n",
    "twitter = pd.read_csv('./twitter_training.csv',header=None)\n",
    "y_last = twitter[[2,3]]\n",
    "twitter.rename(columns=({0:'tweet_id',1:'Game',2:'sentiment',3:'tweet'}),inplace=True)\n",
    "twitter.info()"
   ]
  },
  {
   "cell_type": "code",
   "execution_count": 139,
   "id": "41d6a730-4ca4-4bda-94e4-d8b5d965aa37",
   "metadata": {},
   "outputs": [
    {
     "name": "stderr",
     "output_type": "stream",
     "text": [
      "/var/folders/mw/gt9t09vx5q7bd9rrc896gj9w0000gn/T/ipykernel_28271/3682779604.py:2: SettingWithCopyWarning: \n",
      "A value is trying to be set on a copy of a slice from a DataFrame.\n",
      "Try using .loc[row_indexer,col_indexer] = value instead\n",
      "\n",
      "See the caveats in the documentation: https://pandas.pydata.org/pandas-docs/stable/user_guide/indexing.html#returning-a-view-versus-a-copy\n",
      "  clean_twitter['clean_tweets'] = clean_twitter['tweet'].apply(pre_process)\n"
     ]
    }
   ],
   "source": [
    "clean_twitter = twitter[~twitter['tweet'].isna()]\n",
    "clean_twitter['clean_tweets'] = clean_twitter['tweet'].apply(pre_process)\n",
    "y_last = y_last[~y_last[3].isna()]\n",
    "y_last.rename(columns=({2:'sentiment',3:'tweet'}),inplace=True)\n",
    "y_last = y_last[(y_last['sentiment']=='Positive')|(y_last['sentiment']=='Negative')]"
   ]
  },
  {
   "cell_type": "code",
   "execution_count": 140,
   "id": "2d819989-466f-41a3-89b4-f92a43a64587",
   "metadata": {},
   "outputs": [],
   "source": [
    "clean_twitter = clean_twitter[(clean_twitter['sentiment']=='Positive')|(clean_twitter['sentiment']=='Negative')]\n"
   ]
  },
  {
   "cell_type": "code",
   "execution_count": 141,
   "id": "0e3914a9-dec8-4f57-a752-8be38be6dc4e",
   "metadata": {},
   "outputs": [],
   "source": [
    "clean_twitter.drop(columns='sentiment',inplace=True)\n"
   ]
  },
  {
   "cell_type": "code",
   "execution_count": 142,
   "id": "4773355b-4702-4a30-8b98-eb16f4ac1110",
   "metadata": {},
   "outputs": [],
   "source": [
    "vectorize_new = TfidfVectorizer(max_features=5000)\n",
    "X_new = vectorize.fit_transform(clean_twitter['clean_tweets'])\n",
    "predictions_new = model.predict(X_new)\n"
   ]
  },
  {
   "cell_type": "code",
   "execution_count": 143,
   "id": "76b3d7f6-9adc-4837-8d22-5e04a9108126",
   "metadata": {},
   "outputs": [],
   "source": [
    "y_last['sentiment'] = y_last['sentiment'].str.lower()"
   ]
  },
  {
   "cell_type": "code",
   "execution_count": 144,
   "id": "7dd6a314-7b0b-4926-99ee-f575c4d07515",
   "metadata": {},
   "outputs": [],
   "source": [
    "y_last['sentiment_numeral']=y_last['sentiment'].map({'positive':1,'negative':0})\n",
    "y_new = y_last['sentiment_numeral']\n"
   ]
  },
  {
   "cell_type": "code",
   "execution_count": 146,
   "id": "2c37d6a8-0c32-4011-b2ee-c8ec920bd0fe",
   "metadata": {},
   "outputs": [
    {
     "data": {
      "text/plain": [
       "0.49489689163741196"
      ]
     },
     "execution_count": 146,
     "metadata": {},
     "output_type": "execute_result"
    }
   ],
   "source": [
    "accuracy_score(predictions_new,y_new)"
   ]
  },
  {
   "cell_type": "code",
   "execution_count": null,
   "id": "70ac6887-93a8-400b-a0d8-900be5e3970c",
   "metadata": {},
   "outputs": [],
   "source": []
  }
 ],
 "metadata": {
  "kernelspec": {
   "display_name": "Python 3 (ipykernel)",
   "language": "python",
   "name": "python3"
  },
  "language_info": {
   "codemirror_mode": {
    "name": "ipython",
    "version": 3
   },
   "file_extension": ".py",
   "mimetype": "text/x-python",
   "name": "python",
   "nbconvert_exporter": "python",
   "pygments_lexer": "ipython3",
   "version": "3.12.7"
  }
 },
 "nbformat": 4,
 "nbformat_minor": 5
}
